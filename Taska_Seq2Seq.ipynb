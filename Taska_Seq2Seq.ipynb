{
 "cells": [
  {
   "cell_type": "markdown",
   "metadata": {},
   "source": [
    "# 附加练习作业（选做，折平时分）  seq2seq翻译改进练习"
   ]
  },
  {
   "cell_type": "raw",
   "metadata": {},
   "source": [
    "为了提升效果，本示例程序将英文原按字符分割改进为按单词分割。\n",
    "请在理解seq2seq代码基础上，完成代码改造工作，提高性能。要求：\n",
    "1）文本分割处理：注意简单空格分割会导致标点符号没有分离，标点符号有意义应作为单独token。非标点符号删除（isn't的引号如何处理可斟酌）\n",
    "2）模型结构：改为GRU单元，多层堆砌，参数优化：神经元数量 等优化  \n",
    "3）训练过程保存最佳模型用于预测  "
   ]
  },
  {
   "cell_type": "markdown",
   "metadata": {},
   "source": [
    "# 导入库"
   ]
  },
  {
   "cell_type": "code",
   "execution_count": 1,
   "metadata": {},
   "outputs": [
    {
     "name": "stdout",
     "output_type": "stream",
     "text": [
      "Thu Jun  1 22:51:12 2023       \n",
      "+-----------------------------------------------------------------------------+\n",
      "| NVIDIA-SMI 470.161.03   Driver Version: 470.161.03   CUDA Version: 11.4     |\n",
      "|-------------------------------+----------------------+----------------------+\n",
      "| GPU  Name        Persistence-M| Bus-Id        Disp.A | Volatile Uncorr. ECC |\n",
      "| Fan  Temp  Perf  Pwr:Usage/Cap|         Memory-Usage | GPU-Util  Compute M. |\n",
      "|                               |                      |               MIG M. |\n",
      "|===============================+======================+======================|\n",
      "|   0  NVIDIA GeForce ...  Off  | 00000000:02:00.0 Off |                  N/A |\n",
      "| 53%   56C    P2   192W / 350W |  12439MiB / 24268MiB |     47%      Default |\n",
      "|                               |                      |                  N/A |\n",
      "+-------------------------------+----------------------+----------------------+\n",
      "|   1  NVIDIA GeForce ...  Off  | 00000000:03:00.0 Off |                  N/A |\n",
      "| 65%   63C    P2   188W / 350W |   3687MiB / 24268MiB |     33%      Default |\n",
      "|                               |                      |                  N/A |\n",
      "+-------------------------------+----------------------+----------------------+\n",
      "|   2  NVIDIA GeForce ...  Off  | 00000000:82:00.0 Off |                  N/A |\n",
      "| 35%   47C    P2   112W / 350W |   3810MiB / 24268MiB |     13%      Default |\n",
      "|                               |                      |                  N/A |\n",
      "+-------------------------------+----------------------+----------------------+\n",
      "                                                                               \n",
      "+-----------------------------------------------------------------------------+\n",
      "| Processes:                                                                  |\n",
      "|  GPU   GI   CI        PID   Type   Process name                  GPU Memory |\n",
      "|        ID   ID                                                   Usage      |\n",
      "|=============================================================================|\n",
      "|    0   N/A  N/A      8610      G   /usr/lib/xorg/Xorg                  4MiB |\n",
      "|    0   N/A  N/A    219770      C   /data/anaconda3/bin/python       3679MiB |\n",
      "|    0   N/A  N/A   2374979      C   /data/anaconda3/bin/python       1707MiB |\n",
      "|    0   N/A  N/A   3727708      C   /data/anaconda3/bin/python       2097MiB |\n",
      "|    0   N/A  N/A   3919262      C   /data/anaconda3/bin/python       2095MiB |\n",
      "|    0   N/A  N/A   4097034      C   /data/anaconda3/bin/python       2851MiB |\n",
      "|    1   N/A  N/A      8610      G   /usr/lib/xorg/Xorg                  4MiB |\n",
      "|    1   N/A  N/A   2978782      C   /data/anaconda3/bin/python       3679MiB |\n",
      "|    2   N/A  N/A      8610      G   /usr/lib/xorg/Xorg                  4MiB |\n",
      "|    2   N/A  N/A   2982465      C   /data/anaconda3/bin/python       2095MiB |\n",
      "|    2   N/A  N/A   3974531      C   /data/anaconda3/bin/python       1707MiB |\n",
      "+-----------------------------------------------------------------------------+\n",
      "\n",
      "Success.\n"
     ]
    }
   ],
   "source": [
    "#首先执行GPU资源分配代码，勿删除。\n",
    "import GPU\n",
    "GPU.show()\n",
    "GPU.alloc(0,1024)"
   ]
  },
  {
   "cell_type": "code",
   "execution_count": 2,
   "metadata": {},
   "outputs": [],
   "source": [
    "import tensorflow as tf\n",
    "import re\n",
    "from tensorflow import keras\n",
    "from tensorflow.keras.layers import Input,LSTM,Dense,GRU,Embedding\n",
    "from tensorflow.keras.models import Model,load_model\n",
    "from tensorflow.keras.utils import plot_model\n",
    "import pandas as pd\n",
    "import numpy as np"
   ]
  },
  {
   "cell_type": "code",
   "execution_count": 3,
   "metadata": {},
   "outputs": [],
   "source": [
    "N_UNITS = 256\n",
    "BATCH_SIZE = 64\n",
    "EPOCH = 50\n",
    "NUM_SAMPLES = 21000\n",
    "embedding_dim = 256"
   ]
  },
  {
   "cell_type": "markdown",
   "metadata": {},
   "source": [
    "# 数据处理"
   ]
  },
  {
   "cell_type": "code",
   "execution_count": 4,
   "metadata": {},
   "outputs": [],
   "source": [
    "data_path = 'data/cmn.txt'"
   ]
  },
  {
   "cell_type": "code",
   "execution_count": 5,
   "metadata": {},
   "outputs": [],
   "source": [
    "df = pd.read_table(data_path,header=None).iloc[:NUM_SAMPLES,:2,]"
   ]
  },
  {
   "cell_type": "code",
   "execution_count": 6,
   "metadata": {},
   "outputs": [
    {
     "data": {
      "text/html": [
       "<div>\n",
       "<style scoped>\n",
       "    .dataframe tbody tr th:only-of-type {\n",
       "        vertical-align: middle;\n",
       "    }\n",
       "\n",
       "    .dataframe tbody tr th {\n",
       "        vertical-align: top;\n",
       "    }\n",
       "\n",
       "    .dataframe thead th {\n",
       "        text-align: right;\n",
       "    }\n",
       "</style>\n",
       "<table border=\"1\" class=\"dataframe\">\n",
       "  <thead>\n",
       "    <tr style=\"text-align: right;\">\n",
       "      <th></th>\n",
       "      <th>0</th>\n",
       "      <th>1</th>\n",
       "    </tr>\n",
       "  </thead>\n",
       "  <tbody>\n",
       "    <tr>\n",
       "      <th>20995</th>\n",
       "      <td>I listen to the radio after dinner.</td>\n",
       "      <td>晚饭后我听收音机。</td>\n",
       "    </tr>\n",
       "    <tr>\n",
       "      <th>20996</th>\n",
       "      <td>I live in an apartment in the city.</td>\n",
       "      <td>我住在城市中的一間公寓裡。</td>\n",
       "    </tr>\n",
       "    <tr>\n",
       "      <th>20997</th>\n",
       "      <td>I look forward to hearing from you.</td>\n",
       "      <td>我期待收到你的來信。</td>\n",
       "    </tr>\n",
       "    <tr>\n",
       "      <th>20998</th>\n",
       "      <td>I look forward to seeing you again.</td>\n",
       "      <td>我期待著再次見到你。</td>\n",
       "    </tr>\n",
       "    <tr>\n",
       "      <th>20999</th>\n",
       "      <td>I lost my ticket. What should I do?</td>\n",
       "      <td>我丢了我的票。我該怎麼辦？</td>\n",
       "    </tr>\n",
       "  </tbody>\n",
       "</table>\n",
       "</div>"
      ],
      "text/plain": [
       "                                         0              1\n",
       "20995  I listen to the radio after dinner.      晚饭后我听收音机。\n",
       "20996  I live in an apartment in the city.  我住在城市中的一間公寓裡。\n",
       "20997  I look forward to hearing from you.     我期待收到你的來信。\n",
       "20998  I look forward to seeing you again.     我期待著再次見到你。\n",
       "20999  I lost my ticket. What should I do?  我丢了我的票。我該怎麼辦？"
      ]
     },
     "execution_count": 6,
     "metadata": {},
     "output_type": "execute_result"
    }
   ],
   "source": [
    "df.tail()"
   ]
  },
  {
   "cell_type": "code",
   "execution_count": 7,
   "metadata": {},
   "outputs": [
    {
     "data": {
      "text/html": [
       "<div>\n",
       "<style scoped>\n",
       "    .dataframe tbody tr th:only-of-type {\n",
       "        vertical-align: middle;\n",
       "    }\n",
       "\n",
       "    .dataframe tbody tr th {\n",
       "        vertical-align: top;\n",
       "    }\n",
       "\n",
       "    .dataframe thead th {\n",
       "        text-align: right;\n",
       "    }\n",
       "</style>\n",
       "<table border=\"1\" class=\"dataframe\">\n",
       "  <thead>\n",
       "    <tr style=\"text-align: right;\">\n",
       "      <th></th>\n",
       "      <th>inputs</th>\n",
       "      <th>targets</th>\n",
       "    </tr>\n",
       "  </thead>\n",
       "  <tbody>\n",
       "    <tr>\n",
       "      <th>0</th>\n",
       "      <td>Hi.</td>\n",
       "      <td>\\t嗨。\\n</td>\n",
       "    </tr>\n",
       "    <tr>\n",
       "      <th>1</th>\n",
       "      <td>Hi.</td>\n",
       "      <td>\\t你好。\\n</td>\n",
       "    </tr>\n",
       "    <tr>\n",
       "      <th>2</th>\n",
       "      <td>Run.</td>\n",
       "      <td>\\t你用跑的。\\n</td>\n",
       "    </tr>\n",
       "    <tr>\n",
       "      <th>3</th>\n",
       "      <td>Stop!</td>\n",
       "      <td>\\t住手！\\n</td>\n",
       "    </tr>\n",
       "    <tr>\n",
       "      <th>4</th>\n",
       "      <td>Wait!</td>\n",
       "      <td>\\t等等！\\n</td>\n",
       "    </tr>\n",
       "  </tbody>\n",
       "</table>\n",
       "</div>"
      ],
      "text/plain": [
       "  inputs    targets\n",
       "0    Hi.     \\t嗨。\\n\n",
       "1    Hi.    \\t你好。\\n\n",
       "2   Run.  \\t你用跑的。\\n\n",
       "3  Stop!    \\t住手！\\n\n",
       "4  Wait!    \\t等等！\\n"
      ]
     },
     "execution_count": 7,
     "metadata": {},
     "output_type": "execute_result"
    }
   ],
   "source": [
    "df.columns=['inputs','targets']\n",
    "df['targets'] = df['targets'].apply(lambda x: '\\t'+x+'\\n')\n",
    "df.head()"
   ]
  },
  {
   "cell_type": "code",
   "execution_count": 8,
   "metadata": {},
   "outputs": [],
   "source": [
    "input_texts = df.inputs.values.tolist()\n",
    "target_texts = df.targets.values.tolist()"
   ]
  },
  {
   "cell_type": "code",
   "execution_count": 9,
   "metadata": {},
   "outputs": [],
   "source": [
    "# 预处理英文句子\n",
    "def preprocess_sentence(w):\n",
    "    \"\"\"处理英文句子\n",
    "        1,符号左右加空格;\n",
    "        2,将非字母和非标点符号的字符替换为空格;\n",
    "        3,空格去重;\n",
    "    \"\"\"\n",
    "    # 符号左右加空格\n",
    "    w = re.sub(r\"([^\\w\\s])\", r\" \\1 \", w)\n",
    "    # 将非字母和非标点符号的字符替换为空格\n",
    "    w = re.sub(r\"[^a-zA-Z\\s]\", \" \", w)\n",
    "    # 空格去重\n",
    "    w = re.sub(r\"\\s+\", \" \", w)\n",
    "    \n",
    "    return w\n",
    "\n",
    "input_texts=[ preprocess_sentence(t) for t in input_texts]"
   ]
  },
  {
   "cell_type": "code",
   "execution_count": 10,
   "metadata": {},
   "outputs": [],
   "source": [
    "# 4,加载数据;使用tokenizer做词嵌入;分割数据为train,vaild,test数据集\n",
    "def max_length(tensor):\n",
    "    \"\"\"找到数据集中padding的最大值\"\"\"\n",
    "    return max(len(t) for t in tensor)\n",
    "\n",
    "def tokenize(lang, china = False):\n",
    "    \"\"\"将数据集做padding\"\"\"\n",
    "    lang_tokenizer = tf.keras.preprocessing.text.Tokenizer(filters='', char_level = china)\n",
    "    lang_tokenizer.fit_on_texts(lang)\n",
    "    tensor = lang_tokenizer.texts_to_sequences(lang)\n",
    "    tensor = tf.keras.preprocessing.sequence.pad_sequences(tensor, padding='post')\n",
    "    return tensor, lang_tokenizer"
   ]
  },
  {
   "cell_type": "markdown",
   "metadata": {},
   "source": [
    "## 向量化"
   ]
  },
  {
   "cell_type": "code",
   "execution_count": 11,
   "metadata": {},
   "outputs": [],
   "source": [
    "input_tensor, inp_lang_tokenizer = tokenize(input_texts)"
   ]
  },
  {
   "cell_type": "code",
   "execution_count": 12,
   "metadata": {},
   "outputs": [
    {
     "data": {
      "text/plain": [
       "22"
      ]
     },
     "execution_count": 12,
     "metadata": {},
     "output_type": "execute_result"
    }
   ],
   "source": [
    "target_tensor, targ_lang_tokenizer = tokenize(target_texts, china=True)\n",
    "max_length_targ= max_length(target_tensor)\n",
    "max_length_targ"
   ]
  },
  {
   "cell_type": "code",
   "execution_count": 13,
   "metadata": {},
   "outputs": [],
   "source": [
    "#PADDING字符占用一个码，需要+1\n",
    "vocab_inp_size = len(inp_lang_tokenizer.word_index)+1\n",
    "vocab_tar_size = len(targ_lang_tokenizer.word_index)+1"
   ]
  },
  {
   "cell_type": "code",
   "execution_count": 14,
   "metadata": {},
   "outputs": [
    {
     "data": {
      "text/plain": [
       "10"
      ]
     },
     "execution_count": 14,
     "metadata": {},
     "output_type": "execute_result"
    }
   ],
   "source": [
    "max_length_inp =  max_length(input_tensor)\n",
    "max_length_inp"
   ]
  },
  {
   "cell_type": "code",
   "execution_count": 15,
   "metadata": {},
   "outputs": [
    {
     "name": "stdout",
     "output_type": "stream",
     "text": [
      "Input Language; index to word mapping\n",
      "1 ----> i\n",
      "170 ----> lost\n",
      "12 ----> my\n",
      "666 ----> ticket\n",
      "21 ----> what\n",
      "75 ----> should\n",
      "1 ----> i\n",
      "13 ----> do\n"
     ]
    }
   ],
   "source": [
    "# 6,测试数据转化结果 \n",
    "def convert(lang, tensor):\n",
    "    for t in tensor:\n",
    "        if t != 0:\n",
    "            print (\"%d ----> %s\" % (t, lang.index_word[t]))\n",
    "            \n",
    "print(\"Input Language; index to word mapping\")\n",
    "convert(inp_lang_tokenizer, input_tensor[-1])"
   ]
  },
  {
   "cell_type": "code",
   "execution_count": 16,
   "metadata": {},
   "outputs": [
    {
     "name": "stdout",
     "output_type": "stream",
     "text": [
      "Target Language; index to word mapping\n",
      "1 ----> \t\n",
      "4 ----> 我\n",
      "673 ----> 丢\n",
      "7 ----> 了\n",
      "4 ----> 我\n",
      "5 ----> 的\n",
      "437 ----> 票\n",
      "3 ----> 。\n",
      "4 ----> 我\n",
      "172 ----> 該\n",
      "93 ----> 怎\n",
      "43 ----> 麼\n",
      "648 ----> 辦\n",
      "9 ----> ？\n",
      "2 ----> \n",
      "\n"
     ]
    }
   ],
   "source": [
    "print(\"Target Language; index to word mapping\")\n",
    "convert(targ_lang_tokenizer, target_tensor[-1])"
   ]
  },
  {
   "cell_type": "code",
   "execution_count": 17,
   "metadata": {},
   "outputs": [
    {
     "name": "stdout",
     "output_type": "stream",
     "text": [
      "20000 20000 1000 1000\n"
     ]
    }
   ],
   "source": [
    "from sklearn.model_selection import train_test_split\n",
    "# 5,拆分训练集和验证集\n",
    "# Creating training and validation sets using an 80-20 split\n",
    "input_tensor_train, input_tensor_val, target_tensor_train, target_tensor_val = train_test_split(input_tensor, target_tensor, test_size=1000)\n",
    "\n",
    "# 打印数据集长度 - Show length\n",
    "print(len(input_tensor_train), len(target_tensor_train), len(input_tensor_val), len(target_tensor_val))"
   ]
  },
  {
   "cell_type": "code",
   "execution_count": 18,
   "metadata": {},
   "outputs": [],
   "source": [
    "#decoder的label tensor\n",
    "output_tensor_train=np.zeros_like(target_tensor_train)\n",
    "output_tensor_train[:,:-1]=target_tensor_train[:,1:]\n",
    "\n",
    "output_tensor_val=np.zeros_like(target_tensor_val)\n",
    "output_tensor_val[:,:-1]=target_tensor_val[:,1:]"
   ]
  },
  {
   "cell_type": "code",
   "execution_count": 19,
   "metadata": {},
   "outputs": [
    {
     "data": {
      "text/plain": [
       "((21000, 10), (21000, 22))"
      ]
     },
     "execution_count": 19,
     "metadata": {},
     "output_type": "execute_result"
    }
   ],
   "source": [
    "input_tensor.shape, target_tensor.shape"
   ]
  },
  {
   "cell_type": "markdown",
   "metadata": {},
   "source": [
    "# 创建模型（作业要点）"
   ]
  },
  {
   "cell_type": "code",
   "execution_count": 20,
   "metadata": {},
   "outputs": [],
   "source": [
    "def create_model(n_input,n_output,n_units):\n",
    "    #训练阶段\n",
    "    #encoder\n",
    "    encoder_input = Input(shape = (None, ))\n",
    "    embeddin = Embedding(n_input, embedding_dim)\n",
    "    #encoder输入维度n_input为每个时间步的输入xt的维度，这里是用来one-hot的英文字符数\n",
    "    encoder = GRU(n_units, return_state=True)\n",
    "    #n_units为LSTM单元中每个门的神经元的个数，return_state设为True时才会返回最后时刻的状态h,c\n",
    "    _,encoder_state = encoder(embeddin(encoder_input))\n",
    "    encoder_states = [encoder_state]\n",
    "    #保留下来encoder的末状态作为decoder的初始状态\n",
    "    \n",
    "    #decoder\n",
    "    decoder_input = Input(shape = (None, ))\n",
    "    embeddout = Embedding(n_output, embedding_dim)\n",
    "    #decoder的输入维度为中文字符数\n",
    "    decoder = GRU(n_units,return_sequences=True, return_state=True)\n",
    "    #训练模型时需要decoder的输出序列来与结果对比优化，故return_sequences也要设为True\n",
    "    decoder_output, _= decoder(embeddout(decoder_input),initial_state=encoder_states)\n",
    "    #在训练阶段只需要用到decoder的输出序列，不需要用最终状态h\n",
    "    decoder_dense = Dense(n_output, activation='softmax')\n",
    "    decoder_output = decoder_dense(decoder_output)\n",
    "    #输出序列经过全连接层得到结果\n",
    "    \n",
    "    #生成的训练模型\n",
    "    model = Model([encoder_input,decoder_input], decoder_output)\n",
    "    #第一个参数为训练模型的输入，包含了encoder和decoder的输入，第二个参数为模型的输出，包含了decoder的输出\n",
    "    \n",
    "    #推理阶段，用于预测过程\n",
    "    #推断模型—encoder\n",
    "    encoder_infer = Model(encoder_input,encoder_states)\n",
    "    \n",
    "    #推断模型-decoder\n",
    "    decoder_state_input = Input(shape=(n_units,))    \n",
    "    decoder_states = [decoder_state_input]#上个时刻的状态h \n",
    "    \n",
    "    decoder_infer_output, decoder_infer_states = decoder(embeddout(decoder_input),initial_state=decoder_states)\n",
    "    decoder_infer_state = [decoder_infer_states]#当前时刻得到的状态\n",
    "    decoder_infer_output = decoder_dense(decoder_infer_output)#当前时刻的输出\n",
    "    decoder_infer = Model([decoder_input]+decoder_states,[decoder_infer_output]+decoder_infer_state)\n",
    "    \n",
    "    return model, encoder_infer, decoder_infer"
   ]
  },
  {
   "cell_type": "code",
   "execution_count": 21,
   "metadata": {},
   "outputs": [],
   "source": [
    "model_train, encoder_infer, decoder_infer = create_model(vocab_inp_size, vocab_tar_size, N_UNITS)"
   ]
  },
  {
   "cell_type": "code",
   "execution_count": 22,
   "metadata": {},
   "outputs": [],
   "source": [
    "#input_tensor, target_tensor\n",
    "\n",
    "model_train.compile(optimizer='rmsprop', loss='sparse_categorical_crossentropy',metrics = ['accuracy'])"
   ]
  },
  {
   "cell_type": "markdown",
   "metadata": {},
   "source": [
    "# 模型训练"
   ]
  },
  {
   "cell_type": "code",
   "execution_count": 23,
   "metadata": {
    "scrolled": true
   },
   "outputs": [
    {
     "name": "stdout",
     "output_type": "stream",
     "text": [
      "Epoch 1/50\n",
      "313/313 [==============================] - 13s 21ms/step - loss: 2.1455 - accuracy: 0.6697 - val_loss: 1.8055 - val_accuracy: 0.7146\n",
      "Epoch 2/50\n",
      "313/313 [==============================] - 5s 17ms/step - loss: 1.6625 - accuracy: 0.7287 - val_loss: 1.6113 - val_accuracy: 0.7371\n",
      "Epoch 3/50\n",
      "313/313 [==============================] - 5s 17ms/step - loss: 1.4922 - accuracy: 0.7489 - val_loss: 1.4914 - val_accuracy: 0.7515\n",
      "Epoch 4/50\n",
      "313/313 [==============================] - 6s 18ms/step - loss: 1.3712 - accuracy: 0.7637 - val_loss: 1.4044 - val_accuracy: 0.7639\n",
      "Epoch 5/50\n",
      "313/313 [==============================] - 6s 18ms/step - loss: 1.2722 - accuracy: 0.7773 - val_loss: 1.3371 - val_accuracy: 0.7735\n",
      "Epoch 6/50\n",
      "313/313 [==============================] - 5s 17ms/step - loss: 1.1864 - accuracy: 0.7893 - val_loss: 1.2812 - val_accuracy: 0.7807\n",
      "Epoch 7/50\n",
      "313/313 [==============================] - 4s 13ms/step - loss: 1.1118 - accuracy: 0.7992 - val_loss: 1.2421 - val_accuracy: 0.7877\n",
      "Epoch 8/50\n",
      "313/313 [==============================] - 4s 14ms/step - loss: 1.0445 - accuracy: 0.8090 - val_loss: 1.2051 - val_accuracy: 0.7936\n",
      "Epoch 9/50\n",
      "313/313 [==============================] - 4s 13ms/step - loss: 0.9824 - accuracy: 0.8173 - val_loss: 1.1733 - val_accuracy: 0.7975\n",
      "Epoch 10/50\n",
      "313/313 [==============================] - 4s 13ms/step - loss: 0.9263 - accuracy: 0.8259 - val_loss: 1.1477 - val_accuracy: 0.8022\n",
      "Epoch 11/50\n",
      "313/313 [==============================] - 4s 12ms/step - loss: 0.8740 - accuracy: 0.8336 - val_loss: 1.1295 - val_accuracy: 0.8052\n",
      "Epoch 12/50\n",
      "313/313 [==============================] - 4s 12ms/step - loss: 0.8256 - accuracy: 0.8414 - val_loss: 1.1133 - val_accuracy: 0.8077\n",
      "Epoch 13/50\n",
      "313/313 [==============================] - 4s 13ms/step - loss: 0.7807 - accuracy: 0.8490 - val_loss: 1.1024 - val_accuracy: 0.8071\n",
      "Epoch 14/50\n",
      "313/313 [==============================] - 5s 15ms/step - loss: 0.7378 - accuracy: 0.8561 - val_loss: 1.0930 - val_accuracy: 0.8095\n",
      "Epoch 15/50\n",
      "313/313 [==============================] - 5s 14ms/step - loss: 0.6979 - accuracy: 0.8636 - val_loss: 1.0858 - val_accuracy: 0.8125\n",
      "Epoch 16/50\n",
      "313/313 [==============================] - 4s 11ms/step - loss: 0.6607 - accuracy: 0.8703 - val_loss: 1.0801 - val_accuracy: 0.8142\n",
      "Epoch 17/50\n",
      "313/313 [==============================] - 5s 16ms/step - loss: 0.6260 - accuracy: 0.8774 - val_loss: 1.0766 - val_accuracy: 0.8147\n",
      "Epoch 18/50\n",
      "313/313 [==============================] - 5s 15ms/step - loss: 0.5929 - accuracy: 0.8836 - val_loss: 1.0764 - val_accuracy: 0.8165\n",
      "Epoch 19/50\n",
      "313/313 [==============================] - 5s 15ms/step - loss: 0.5624 - accuracy: 0.8899 - val_loss: 1.0767 - val_accuracy: 0.8166\n",
      "Epoch 20/50\n",
      "313/313 [==============================] - 5s 15ms/step - loss: 0.5342 - accuracy: 0.8958 - val_loss: 1.0786 - val_accuracy: 0.8165\n",
      "Epoch 21/50\n",
      "313/313 [==============================] - 4s 11ms/step - loss: 0.5072 - accuracy: 0.9014 - val_loss: 1.0813 - val_accuracy: 0.8171\n",
      "Epoch 22/50\n",
      "313/313 [==============================] - 3s 11ms/step - loss: 0.4815 - accuracy: 0.9072 - val_loss: 1.0895 - val_accuracy: 0.8164\n",
      "Epoch 23/50\n",
      "313/313 [==============================] - 4s 14ms/step - loss: 0.4579 - accuracy: 0.9124 - val_loss: 1.0923 - val_accuracy: 0.8178\n",
      "Epoch 24/50\n",
      "313/313 [==============================] - 5s 14ms/step - loss: 0.4356 - accuracy: 0.9171 - val_loss: 1.0960 - val_accuracy: 0.8185\n",
      "Epoch 25/50\n",
      "313/313 [==============================] - 4s 14ms/step - loss: 0.4150 - accuracy: 0.9219 - val_loss: 1.1052 - val_accuracy: 0.8160\n",
      "Epoch 26/50\n",
      "313/313 [==============================] - 4s 14ms/step - loss: 0.3943 - accuracy: 0.9265 - val_loss: 1.1108 - val_accuracy: 0.8185\n",
      "Epoch 27/50\n",
      "313/313 [==============================] - 4s 14ms/step - loss: 0.3749 - accuracy: 0.9312 - val_loss: 1.1183 - val_accuracy: 0.8169\n",
      "Epoch 28/50\n",
      "313/313 [==============================] - 4s 14ms/step - loss: 0.3558 - accuracy: 0.9353 - val_loss: 1.1257 - val_accuracy: 0.8170\n",
      "Epoch 29/50\n",
      "313/313 [==============================] - 5s 14ms/step - loss: 0.3391 - accuracy: 0.9389 - val_loss: 1.1303 - val_accuracy: 0.8177\n",
      "Epoch 30/50\n",
      "313/313 [==============================] - 4s 14ms/step - loss: 0.3221 - accuracy: 0.9426 - val_loss: 1.1291 - val_accuracy: 0.8178\n",
      "Epoch 31/50\n",
      "313/313 [==============================] - 4s 14ms/step - loss: 0.3062 - accuracy: 0.9463 - val_loss: 1.1454 - val_accuracy: 0.8171\n",
      "Epoch 32/50\n",
      "313/313 [==============================] - 4s 14ms/step - loss: 0.2910 - accuracy: 0.9496 - val_loss: 1.1496 - val_accuracy: 0.8168\n",
      "Epoch 33/50\n",
      "313/313 [==============================] - 4s 14ms/step - loss: 0.2776 - accuracy: 0.9524 - val_loss: 1.1535 - val_accuracy: 0.8172\n",
      "Epoch 34/50\n",
      "313/313 [==============================] - 4s 14ms/step - loss: 0.2641 - accuracy: 0.9555 - val_loss: 1.1603 - val_accuracy: 0.8164\n",
      "Epoch 35/50\n",
      "313/313 [==============================] - 4s 14ms/step - loss: 0.2521 - accuracy: 0.9579 - val_loss: 1.1700 - val_accuracy: 0.8162\n",
      "Epoch 36/50\n",
      "313/313 [==============================] - 4s 14ms/step - loss: 0.2406 - accuracy: 0.9599 - val_loss: 1.1772 - val_accuracy: 0.8174\n",
      "Epoch 37/50\n",
      "313/313 [==============================] - 5s 15ms/step - loss: 0.2294 - accuracy: 0.9623 - val_loss: 1.1796 - val_accuracy: 0.8150\n",
      "Epoch 38/50\n",
      "313/313 [==============================] - 4s 14ms/step - loss: 0.2187 - accuracy: 0.9644 - val_loss: 1.1842 - val_accuracy: 0.8180\n",
      "Epoch 39/50\n",
      "313/313 [==============================] - 3s 10ms/step - loss: 0.2092 - accuracy: 0.9663 - val_loss: 1.1966 - val_accuracy: 0.8172\n",
      "Epoch 40/50\n",
      "313/313 [==============================] - 3s 10ms/step - loss: 0.2000 - accuracy: 0.9681 - val_loss: 1.1965 - val_accuracy: 0.8177\n",
      "Epoch 41/50\n",
      "313/313 [==============================] - 3s 10ms/step - loss: 0.1918 - accuracy: 0.9697 - val_loss: 1.2056 - val_accuracy: 0.8159\n",
      "Epoch 42/50\n",
      "313/313 [==============================] - 3s 10ms/step - loss: 0.1833 - accuracy: 0.9714 - val_loss: 1.2076 - val_accuracy: 0.8180\n",
      "Epoch 43/50\n",
      "313/313 [==============================] - 3s 9ms/step - loss: 0.1752 - accuracy: 0.9728 - val_loss: 1.2102 - val_accuracy: 0.8163\n",
      "Epoch 44/50\n",
      "313/313 [==============================] - 3s 10ms/step - loss: 0.1685 - accuracy: 0.9740 - val_loss: 1.2200 - val_accuracy: 0.8174\n",
      "Epoch 45/50\n",
      "313/313 [==============================] - 3s 10ms/step - loss: 0.1616 - accuracy: 0.9754 - val_loss: 1.2261 - val_accuracy: 0.8170\n",
      "Epoch 46/50\n",
      "313/313 [==============================] - 3s 9ms/step - loss: 0.1555 - accuracy: 0.9764 - val_loss: 1.2292 - val_accuracy: 0.8155\n",
      "Epoch 47/50\n",
      "313/313 [==============================] - 3s 9ms/step - loss: 0.1489 - accuracy: 0.9776 - val_loss: 1.2346 - val_accuracy: 0.8166\n",
      "Epoch 48/50\n",
      "313/313 [==============================] - 4s 11ms/step - loss: 0.1437 - accuracy: 0.9783 - val_loss: 1.2403 - val_accuracy: 0.8152\n",
      "Epoch 49/50\n",
      "313/313 [==============================] - 3s 10ms/step - loss: 0.1388 - accuracy: 0.9793 - val_loss: 1.2441 - val_accuracy: 0.8148\n",
      "Epoch 50/50\n",
      "313/313 [==============================] - 3s 9ms/step - loss: 0.1337 - accuracy: 0.9802 - val_loss: 1.2550 - val_accuracy: 0.8150\n"
     ]
    }
   ],
   "source": [
    "train_history = model_train.fit([input_tensor_train, target_tensor_train],output_tensor_train,batch_size=BATCH_SIZE,epochs=EPOCH,\n",
    "                validation_data=([input_tensor_val, target_tensor_val],output_tensor_val) )"
   ]
  },
  {
   "cell_type": "code",
   "execution_count": 24,
   "metadata": {},
   "outputs": [
    {
     "data": {
      "image/png": "[encoded data removed]",
      "text/plain": [
       "<Figure size 640x480 with 1 Axes>"
      ]
     },
     "metadata": {},
     "output_type": "display_data"
    }
   ],
   "source": [
    "import matplotlib.pyplot as plt\n",
    "def show_train_his(train_history,train,val):\n",
    "    plt.plot(train_history.history[train])\n",
    "    plt.plot(train_history.history[val])\n",
    "    plt.title('Train History')\n",
    "    plt.ylabel(train)\n",
    "    plt.xlabel('Epoch')\n",
    "    plt.legend(['train','validation'],loc='upper left')\n",
    "    plt.show()\n",
    "    \n",
    "show_train_his(train_history,'accuracy','val_accuracy')"
   ]
  },
  {
   "cell_type": "code",
   "execution_count": 25,
   "metadata": {},
   "outputs": [
    {
     "data": {
      "image/png": "[encoded data removed]",
      "text/plain": [
       "<Figure size 640x480 with 1 Axes>"
      ]
     },
     "metadata": {},
     "output_type": "display_data"
    }
   ],
   "source": [
    "show_train_his(train_history,'loss','val_loss')"
   ]
  },
  {
   "cell_type": "markdown",
   "metadata": {},
   "source": [
    "# 预测序列"
   ]
  },
  {
   "cell_type": "code",
   "execution_count": 26,
   "metadata": {},
   "outputs": [],
   "source": [
    "def predict_chinese(source,encoder_inference, decoder_inference, n_steps, features):\n",
    "    #先通过推理encoder获得预测输入序列的隐状态\n",
    "    state = encoder_inference.predict(source)\n",
    "    #第一个字符'\\t',为起始标志\n",
    "    predict_seq = np.zeros((1,1))\n",
    "    predict_seq[0,0]=1   ##target_dict['\\t']\n",
    "\n",
    "    output = ''\n",
    "    #开始对encoder获得的隐状态进行推理\n",
    "    #每次循环用上次预测的字符作为输入来预测下一次的字符，直到预测出了终止符\n",
    "    for i in range(n_steps):#n_steps为句子最大长度\n",
    "        #给decoder输入上一个时刻的h,c隐状态，以及上一次的预测字符predict_seq\n",
    "        yhat,h = decoder_inference.predict([predict_seq,state])\n",
    "        #注意，这里的yhat为Dense之后输出的结果，因此与h不同\n",
    "        char_index = np.argmax(yhat[0,-1,:])\n",
    "        char = targ_lang_tokenizer.index_word[char_index]\n",
    "        output += char\n",
    "        state = [h]#本次状态做为下一次的初始状态继续传递\n",
    "        predict_seq = np.zeros((1,1))\n",
    "        predict_seq[0,0]=char_index\n",
    "        if char == '\\n':#预测到了终止符则停下来\n",
    "            break\n",
    "    return output"
   ]
  },
  {
   "cell_type": "code",
   "execution_count": 27,
   "metadata": {},
   "outputs": [],
   "source": [
    "def convertinp(tensor):\n",
    "    s=''\n",
    "    for t in tensor:\n",
    "        if t != 0:\n",
    "            s += inp_lang_tokenizer.index_word[t]+' '\n",
    "    return s"
   ]
  },
  {
   "cell_type": "code",
   "execution_count": 28,
   "metadata": {},
   "outputs": [
    {
     "name": "stdout",
     "output_type": "stream",
     "text": [
      "are you able to swim \n",
      "你能游泳嗎？\n",
      "\n",
      "five gallons of regular please \n",
      "请用还开着。\n",
      "\n",
      "i don t have a computer at home \n",
      "我沒有她的車子。\n",
      "\n",
      "don t believe what she says \n",
      "不要告诉她是什麼。\n",
      "\n",
      "this is a beautiful flower \n",
      "这是一个小时。\n",
      "\n",
      "is there a zoo in the park \n",
      "公園裡有很多樹嗎?\n",
      "\n",
      "i m watching tv now \n",
      "我在看电视。\n",
      "\n",
      "i gave tom three cookies \n",
      "我汤姆的游答是应该的晚学。\n",
      "\n",
      "your son is dating my daughter \n",
      "你的儿子沒有回喜歡我。\n",
      "\n",
      "my dream is to become a pilot \n",
      "我的計劃是一名演員。\n",
      "\n",
      "i don t know why they are fighting \n",
      "我不知道他們什麼時候會離開。\n",
      "\n",
      "let me introduce my mother to you \n",
      "让我来给你的告。\n",
      "\n",
      "i feel a whole lot better today \n",
      "我今天感觉好多了。\n",
      "\n",
      "i m getting choked up \n",
      "我要出發了。\n",
      "\n",
      "i forgot to lock the drawer \n",
      "我忘了帶長再久。\n",
      "\n",
      "it s just started raining \n",
      "雨在开始的下雨。\n",
      "\n",
      "i d like to pay by credit card \n",
      "我想用支安给它在应该的自家裡用我的花？\n",
      "\n",
      "don t shoot \n",
      "不要动。\n",
      "\n",
      "i can t think of life without you \n",
      "我不能相信你在哪裡。\n",
      "\n",
      "we studied english \n",
      "我們學校中學。\n",
      "\n"
     ]
    }
   ],
   "source": [
    "for i in range(20):\n",
    "    test = input_tensor_val[i:i+1,:]#i:i+1保持数组是三维\n",
    "    out = predict_chinese(test,encoder_infer,decoder_infer,max_length_targ,vocab_tar_size)\n",
    "\n",
    "    print(convertinp(input_tensor_val[i]))\n",
    "    print(out)"
   ]
  },
  {
   "cell_type": "code",
   "execution_count": null,
   "metadata": {},
   "outputs": [],
   "source": []
  }
 ],
 "metadata": {
  "kernelspec": {
   "display_name": "Python 3 (ipykernel)",
   "language": "python",
   "name": "python3"
  },
  "language_info": {
   "codemirror_mode": {
    "name": "ipython",
    "version": 3
   },
   "file_extension": ".py",
   "mimetype": "text/x-python",
   "name": "python",
   "nbconvert_exporter": "python",
   "pygments_lexer": "ipython3",
   "version": "3.7.6"
  },
  "toc": {
   "base_numbering": 1,
   "nav_menu": {},
   "number_sections": true,
   "sideBar": true,
   "skip_h1_title": false,
   "title_cell": "Table of Contents",
   "title_sidebar": "Contents",
   "toc_cell": false,
   "toc_position": {},
   "toc_section_display": true,
   "toc_window_display": false
  }
 },
 "nbformat": 4,
 "nbformat_minor": 2
}
